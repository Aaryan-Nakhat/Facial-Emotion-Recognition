{
 "cells": [
  {
   "cell_type": "code",
   "execution_count": 1,
   "id": "bb49c537",
   "metadata": {},
   "outputs": [],
   "source": [
    "import numpy as np\n",
    "import cv2\n",
    "from PIL import Image\n",
    "from time import sleep\n",
    "from transformers import AutoFeatureExtractor, AutoModelForImageClassification, pipeline\n",
    "from tensorflow.keras.preprocessing.image import img_to_array\n",
    "from tensorflow.keras.models import load_model\n",
    "from typing import Optional"
   ]
  },
  {
   "cell_type": "code",
   "execution_count": 2,
   "id": "90aec5cc",
   "metadata": {},
   "outputs": [],
   "source": [
    "class_labels = ['Angry', 'Disgust', 'Fear', 'Happy', 'Neutral', 'Sad', 'Surprise']"
   ]
  },
  {
   "cell_type": "markdown",
   "id": "f59f6a73",
   "metadata": {},
   "source": [
    "### Mapping for available_models:\n",
    "\n",
    "\n",
    "|                       Saved Model Path                      |        Type of Model       | Integer Mapping |\n",
    "|:-----------------------------------------------------------:|:--------------------------:|:---------------:|\n",
    "|      'models/Emotion_Recognition_Conv_fer_csv_data_.h5'     |             CNN            |        0        |\n",
    "| 'models/Emotion_Recognition_Conv_fer_csv_data_With_Aug_.h5' | CNN with Data Augmentation |        1        |\n",
    "|            'Aaryan333/vit-base-finetuned-fer2013'           |             ViT            |        2        |\n",
    "|         'Aaryan333/convnext-tiny-finetuned-fer2013'         |          ConvNeXT          |        3        |\n",
    "|      'Aaryan333/convnextv2-tiny-384-finetuned-fer2013'      |         ConvNeXTv2         |        4        |"
   ]
  },
  {
   "cell_type": "code",
   "execution_count": 3,
   "id": "6eab90fd",
   "metadata": {},
   "outputs": [],
   "source": [
    "available_models = ['models/Emotion_Recognition_CNN.h5', \n",
    "                    'Emotion_Recognition_CNN_with_Data_Aug.h5', \n",
    "                    'Aaryan333/vit-base-finetuned-fer2013',\n",
    "                    'Aaryan333/convnext-tiny-finetuned-fer2013',\n",
    "                    'Aaryan333/convnextv2-tiny-384-finetuned-fer2013'\n",
    "                   ]"
   ]
  },
  {
   "cell_type": "code",
   "execution_count": 7,
   "id": "fce338f6",
   "metadata": {},
   "outputs": [],
   "source": [
    "def do_video_inferencing(model_to_use: int, enable_real_time_video_inferencing: Optional[bool] = False, \n",
    "               prerecorded_video_path: Optional[str] = None):\n",
    "        \n",
    "    if model_to_use in range(5):\n",
    "        face_detector = cv2.CascadeClassifier(\"haarcascades_models/haarcascade_frontalface_default.xml\")\n",
    "        if model_to_use < 2:\n",
    "            emotion_recognition_model = load_model(available_models[model_to_use])\n",
    "            \n",
    "        else:\n",
    "            feature_extractor = AutoFeatureExtractor.from_pretrained(available_models[model_to_use])\n",
    "            model = AutoModelForImageClassification.from_pretrained(available_models[model_to_use])\n",
    "            pipe = pipeline(\"image-classification\", model=model, feature_extractor=feature_extractor)\n",
    "            \n",
    "            \n",
    "        if enable_real_time_video_inferencing:\n",
    "            cap = cv2.VideoCapture(0)\n",
    "        else:\n",
    "            if prerecorded_video_path == None:\n",
    "                raise ValueError(\"Please provide a pre-recorded video path!\")\n",
    "                \n",
    "            video_path = fr\"{prerecorded_video_path}\"\n",
    "            cap = cv2.VideoCapture(video_path)\n",
    "\n",
    "        while True:\n",
    "            ret, frame = cap.read() # ret is a boolean variable that returns true if the frame is available. frame is an image array vector captured based on the default frames per second    \n",
    "            if not ret:\n",
    "                break\n",
    "\n",
    "            gray_scale_frame = cv2.cvtColor(frame, cv2.COLOR_BGR2GRAY)\n",
    "            faces = face_detector.detectMultiScale(image=gray_scale_frame, scaleFactor=1.3, minNeighbors=5)\n",
    "\n",
    "            for (x,y,w,h) in faces:\n",
    "                cv2.rectangle(img=frame, pt1=(x,y), pt2=(x+w,y+h), color=(255,0,0), thickness=2)\n",
    "                roi_gray_scale_frame = gray_scale_frame[y:y+h,x:x+w]\n",
    "                roi_gray_scale_frame = cv2.resize(roi_gray_scale_frame, (48,48), interpolation=cv2.INTER_AREA)\n",
    "\n",
    "                if model_to_use < 2:\n",
    "                    roi = roi_gray_scale_frame.astype('float')/255.0  # Doing the preprocessing as per the trained emotion recog. model\n",
    "                    roi = img_to_array(roi)\n",
    "                    roi = np.expand_dims(roi, axis=0)  # Expand dims to get it ready for prediction (1, 48, 48, 1)\n",
    "                    prediction = emotion_recognition_model.predict(roi, verbose=None)[0]\n",
    "                    label = class_labels[np.argmax(prediction, axis=-1)]\n",
    "\n",
    "                else:\n",
    "                    roi = Image.fromarray(roi_gray_scale_frame)\n",
    "                    label = pipe(roi)[0]['label']\n",
    "\n",
    "                label_position = (x,y)\n",
    "                cv2.putText(img=frame, text=label, org=label_position, fontFace=cv2.FONT_HERSHEY_SIMPLEX, fontScale=1, color=(0,255,0), \n",
    "                    thickness=2)\n",
    "\n",
    "            cv2.imshow('Real-time Emotion Recognizer', frame)\n",
    "\n",
    "            k = cv2.waitKey(30) & 0xff\n",
    "            if k == 27:      #Press Esc to stop the video\n",
    "                break\n",
    "\n",
    "        cap.release()\n",
    "        cv2.destroyAllWindows()       \n",
    "            \n",
    "    else:\n",
    "        raise ValueError(\"model_to_use must be an integer among [0, 1, 2, 3, 4]\")"
   ]
  },
  {
   "cell_type": "code",
   "execution_count": 8,
   "id": "8eaf5e02",
   "metadata": {},
   "outputs": [],
   "source": [
    "do_video_inferencing(model_to_use=1, enable_real_time_video_inferencing=False, \n",
    "                     prerecorded_video_path=\"D:\\Downloads\\The secrets to decoding facial expressions.mp4\")\n",
    "\n",
    "# do_video_inferencing(model_to_use=2, enable_real_time_video_inferencing=True)"
   ]
  },
  {
   "cell_type": "code",
   "execution_count": null,
   "id": "3f6f13c8",
   "metadata": {},
   "outputs": [],
   "source": []
  }
 ],
 "metadata": {
  "kernelspec": {
   "display_name": "Python 3 (ipykernel)",
   "language": "python",
   "name": "python3"
  },
  "language_info": {
   "codemirror_mode": {
    "name": "ipython",
    "version": 3
   },
   "file_extension": ".py",
   "mimetype": "text/x-python",
   "name": "python",
   "nbconvert_exporter": "python",
   "pygments_lexer": "ipython3",
   "version": "3.9.12"
  }
 },
 "nbformat": 4,
 "nbformat_minor": 5
}
